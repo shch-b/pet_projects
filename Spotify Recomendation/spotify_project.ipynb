{
 "cells": [
  {
   "cell_type": "code",
   "execution_count": null,
   "id": "1bc427fe",
   "metadata": {},
   "outputs": [],
   "source": []
  },
  {
   "cell_type": "code",
   "execution_count": 1,
   "id": "ec86b721",
   "metadata": {},
   "outputs": [],
   "source": [
    "#импортируем необходимые библиотеки\n",
    "import pandas as pd\n",
    "import numpy as np\n",
    "import seaborn as sns\n",
    "import matplotlib.pyplot as plt \n",
    "\n",
    "import scipy.stats as stats\n",
    "\n",
    "import ast #библиотека для предобработки\n",
    "import warnings"
   ]
  },
  {
   "cell_type": "code",
   "execution_count": 2,
   "id": "9834b7d6",
   "metadata": {},
   "outputs": [],
   "source": [
    "#зададим общий стиль визуализаций\n",
    "plt.style.use('bmh')"
   ]
  },
  {
   "cell_type": "markdown",
   "id": "97149431",
   "metadata": {},
   "source": [
    "# 1 Загрузка, проверка  и предобработка данных"
   ]
  },
  {
   "cell_type": "markdown",
   "id": "9daaf621",
   "metadata": {},
   "source": [
    "### 1.1 Загрузка данных"
   ]
  },
  {
   "cell_type": "markdown",
   "id": "157b4297",
   "metadata": {},
   "source": [
    "Загрузим начальные датасеты, произведем предварительную предобработку данных\n",
    "\n",
    "3 датасета:\n",
    "\n",
    "https://www.kaggle.com/datasets/thedevastator/spotify-tracks-genre-dataset содержт сведения о 114 тыс. композициях\n",
    "https://www.kaggle.com/datasets/cesaregarza/everynoise-database-with-spotify-features содержит сведения о 544 тыс. композициях\n",
    "https://www.kaggle.com/datasets/tonygordonjr/spotify-dataset-2023 содержит сведения о 436 тыс. композициях\n",
    "\n"
   ]
  },
  {
   "cell_type": "code",
   "execution_count": 3,
   "id": "edae5dbc",
   "metadata": {},
   "outputs": [],
   "source": [
    "#spotify-tracks-genre-dataset\n",
    "df1 = pd.read_csv('C:/Users/Asus/Яндекс_практикум/kaggle spotify/spotify/databases/114k_songs.csv')"
   ]
  },
  {
   "cell_type": "code",
   "execution_count": 4,
   "id": "e8e8f4a3",
   "metadata": {},
   "outputs": [],
   "source": [
    "#everynoise-database-with-spotify-feature\n",
    "df2 = pd.read_csv('C:/Users/Asus/Яндекс_практикум/kaggle spotify/spotify/databases/544k_songs.csv')"
   ]
  },
  {
   "cell_type": "code",
   "execution_count": 5,
   "id": "18fef2a1",
   "metadata": {},
   "outputs": [
    {
     "name": "stderr",
     "output_type": "stream",
     "text": [
      "C:\\Users\\Asus\\AppData\\Local\\Temp\\ipykernel_3004\\2373894122.py:2: DtypeWarning: Columns (25,26,44) have mixed types. Specify dtype option on import or set low_memory=False.\n",
      "  df3 = pd.read_csv('C:/Users/Asus/Яндекс_практикум/kaggle spotify/spotify/spotify dataset 2023/spotify_data_12_20_2023.csv')\n"
     ]
    }
   ],
   "source": [
    "#spotify-dataset-2023\n",
    "df3 = pd.read_csv('C:/Users/Asus/Яндекс_практикум/kaggle spotify/spotify/spotify dataset 2023/spotify_data_12_20_2023.csv')"
   ]
  },
  {
   "cell_type": "code",
   "execution_count": 6,
   "id": "8e54bbea",
   "metadata": {},
   "outputs": [],
   "source": [
    "#display(df1.info())\n",
    "#display(df2.info())\n",
    "#display(df3.info())"
   ]
  },
  {
   "cell_type": "markdown",
   "id": "a553ebc9",
   "metadata": {},
   "source": [
    "Датасет df3 содержит лишние для объединения разобранные столбцы с уникальными жанрами и наименованиями исполнителей, а также различные атрибуты, котоыре не понадобятся для дальнейшего анализа. Удалим их"
   ]
  },
  {
   "cell_type": "code",
   "execution_count": 7,
   "id": "3d88824a",
   "metadata": {},
   "outputs": [],
   "source": [
    "df3 = df3.drop(['album_id', 'album_name', 'album_popularity', 'album_type', 'label',\n",
    "                'duration_sec', 'total_tracks', 'track_number', 'followers', 'track_href',\n",
    "                'type', 'uri', 'release_year', 'release_month', 'rn',\n",
    "                'artist_0','artist_1','artist_2','artist_3','artist_4','artist_id', 'name',\n",
    "                'artist_popularity', 'artist_genres', 'genre_1', 'genre_2', 'genre_3', 'genre_4', 'analysis_url'], axis=1)"
   ]
  },
  {
   "cell_type": "code",
   "execution_count": 8,
   "id": "ffb87678",
   "metadata": {},
   "outputs": [
    {
     "name": "stdout",
     "output_type": "stream",
     "text": [
      "<class 'pandas.core.frame.DataFrame'>\n",
      "RangeIndex: 114000 entries, 0 to 113999\n",
      "Data columns (total 21 columns):\n",
      " #   Column            Non-Null Count   Dtype  \n",
      "---  ------            --------------   -----  \n",
      " 0   Unnamed: 0        114000 non-null  int64  \n",
      " 1   track_id          114000 non-null  object \n",
      " 2   artists           113999 non-null  object \n",
      " 3   album_name        113999 non-null  object \n",
      " 4   track_name        113999 non-null  object \n",
      " 5   popularity        114000 non-null  int64  \n",
      " 6   duration_ms       114000 non-null  int64  \n",
      " 7   explicit          114000 non-null  bool   \n",
      " 8   danceability      114000 non-null  float64\n",
      " 9   energy            114000 non-null  float64\n",
      " 10  key               114000 non-null  int64  \n",
      " 11  loudness          114000 non-null  float64\n",
      " 12  mode              114000 non-null  int64  \n",
      " 13  speechiness       114000 non-null  float64\n",
      " 14  acousticness      114000 non-null  float64\n",
      " 15  instrumentalness  114000 non-null  float64\n",
      " 16  liveness          114000 non-null  float64\n",
      " 17  valence           114000 non-null  float64\n",
      " 18  tempo             114000 non-null  float64\n",
      " 19  time_signature    114000 non-null  int64  \n",
      " 20  track_genre       114000 non-null  object \n",
      "dtypes: bool(1), float64(9), int64(6), object(5)\n",
      "memory usage: 17.5+ MB\n"
     ]
    },
    {
     "data": {
      "text/plain": [
       "None"
      ]
     },
     "metadata": {},
     "output_type": "display_data"
    },
    {
     "name": "stdout",
     "output_type": "stream",
     "text": [
      "<class 'pandas.core.frame.DataFrame'>\n",
      "RangeIndex: 544401 entries, 0 to 544400\n",
      "Data columns (total 17 columns):\n",
      " #   Column            Non-Null Count   Dtype  \n",
      "---  ------            --------------   -----  \n",
      " 0   Name              544387 non-null  object \n",
      " 1   Id                544401 non-null  object \n",
      " 2   Artists           544401 non-null  object \n",
      " 3   Artists_Id        544401 non-null  object \n",
      " 4   Release           544378 non-null  object \n",
      " 5   Duration          544401 non-null  int64  \n",
      " 6   Genre             544401 non-null  object \n",
      " 7   Danceability      544401 non-null  float64\n",
      " 8   Energy            544401 non-null  float64\n",
      " 9   Key               544401 non-null  int64  \n",
      " 10  Loudness          544401 non-null  float64\n",
      " 11  Speechiness       544401 non-null  float64\n",
      " 12  Acousticness      544401 non-null  float64\n",
      " 13  Instrumentalness  544401 non-null  float64\n",
      " 14  Liveness          544401 non-null  float64\n",
      " 15  Valeance          544401 non-null  float64\n",
      " 16  Tempo             544401 non-null  float64\n",
      "dtypes: float64(9), int64(2), object(6)\n",
      "memory usage: 70.6+ MB\n"
     ]
    },
    {
     "data": {
      "text/plain": [
       "None"
      ]
     },
     "metadata": {},
     "output_type": "display_data"
    },
    {
     "name": "stdout",
     "output_type": "stream",
     "text": [
      "<class 'pandas.core.frame.DataFrame'>\n",
      "RangeIndex: 375141 entries, 0 to 375140\n",
      "Data columns (total 20 columns):\n",
      " #   Column            Non-Null Count   Dtype  \n",
      "---  ------            --------------   -----  \n",
      " 0   artists           375141 non-null  object \n",
      " 1   release_date      375119 non-null  object \n",
      " 2   track_id          375141 non-null  object \n",
      " 3   track_name        375139 non-null  object \n",
      " 4   genre_0           209863 non-null  object \n",
      " 5   acousticness      374364 non-null  float64\n",
      " 6   danceability      374364 non-null  float64\n",
      " 7   duration_ms       374364 non-null  float64\n",
      " 8   energy            374364 non-null  float64\n",
      " 9   instrumentalness  374364 non-null  float64\n",
      " 10  key               374364 non-null  float64\n",
      " 11  liveness          374364 non-null  float64\n",
      " 12  loudness          374364 non-null  float64\n",
      " 13  mode              374364 non-null  float64\n",
      " 14  speechiness       374364 non-null  float64\n",
      " 15  tempo             374364 non-null  float64\n",
      " 16  time_signature    374364 non-null  float64\n",
      " 17  valence           374364 non-null  float64\n",
      " 18  explicit          375131 non-null  object \n",
      " 19  track_popularity  375131 non-null  float64\n",
      "dtypes: float64(14), object(6)\n",
      "memory usage: 57.2+ MB\n"
     ]
    },
    {
     "data": {
      "text/plain": [
       "None"
      ]
     },
     "metadata": {},
     "output_type": "display_data"
    }
   ],
   "source": [
    "display(df1.info())\n",
    "display(df2.info())\n",
    "display(df3.info())"
   ]
  },
  {
   "cell_type": "markdown",
   "id": "cd9c0460",
   "metadata": {},
   "source": [
    "### 1.2 Предварительная предобработка"
   ]
  },
  {
   "cell_type": "markdown",
   "id": "58d3a4c4",
   "metadata": {},
   "source": [
    "1) Для объединения датасетов необходимо нормализовтаь порядок столбцов, их наименования и типы данных. \n",
    "\n",
    "Предварительный просмотр датасетов выявил, что, например, наименования исполнителей в датафрейме df1 - строки в которых перечислены артисты через ;, а в датафрейме df2  - значения виде строк, представляющих списки. "
   ]
  },
  {
   "cell_type": "markdown",
   "id": "8cfbb9c1",
   "metadata": {},
   "source": [
    "2) В целом датасеты содержат аналогичный атрибуты, но в тоже время имеют существенные различия:\n",
    "\n",
    "- общее в датасетах\n",
    "\n",
    "1) id композиции\n",
    "2) популярность композиции\n",
    "3) основные характеристики композиции\n",
    "\n",
    "- различия\n",
    "\n",
    "1) в df1 отсутствует информация о годе выпуска композиции\n",
    "2) в df2 отсутсвует информация о наименовании альбома композиции, популярности, наличии ненормативной лексики, моде и временной сигнатуре, популярности\n",
    "3) df3 в целом соответствует df1\n"
   ]
  },
  {
   "cell_type": "markdown",
   "id": "1d557f35",
   "metadata": {},
   "source": [
    "3. Добавления пустых столбцов\n",
    "\n",
    "- В датасет df1 добавим пустой столбец, который возможно будет содержать год выпуска комозиции\n",
    "- В датасет df2 добавим пустые столбцы, которые возможно будут содержать значения популярности, моды, сигнатуры и наличия ненормативной лексики\n",
    "- Датасет df3 пока оставим без изменений"
   ]
  },
  {
   "cell_type": "code",
   "execution_count": 9,
   "id": "f3580d02",
   "metadata": {},
   "outputs": [],
   "source": [
    "# предобработка df1\n",
    "# удаление столбца в df 1\n",
    "df1 = df1.drop(['Unnamed: 0', 'album_name'], axis=1)\n",
    "#добавление пустых столбцов\n",
    "df1['release'] = np.nan"
   ]
  },
  {
   "cell_type": "code",
   "execution_count": 10,
   "id": "1d00a8bd",
   "metadata": {},
   "outputs": [],
   "source": [
    "# предобработка df2\n",
    "# преобразуем наименвания столбцов в строчные\n",
    "df2.columns = df2.columns.str.lower()\n",
    "\n",
    "#преобразуем значения в столбце artists из строк, представляющих списки в строку с разделителем ;, как в df 1\n",
    "import ast\n",
    "#преобразуем строковые представления списков в списки\n",
    "df2['artists'] = df2['artists'].apply(ast.literal_eval)\n",
    "# преобразуем списки в строки с разделителем ;\n",
    "df2['artists'] = df2['artists'].apply(lambda x: ';'.join(x))\n",
    "\n",
    "#переименуем столбец\n",
    "df2 = df2.rename(columns={'id' : 'track_id'})\n",
    "\n",
    "#удалим лишний столбец\n",
    "df2 = df2.drop(['artists_id'], axis=1)\n",
    "\n",
    "#добавление пустых столбцов\n",
    "df2['popularity'] = np.nan\n",
    "df2['explicit'] = np.nan\n",
    "df2['mode'] = np.nan\n",
    "df2['time_signature'] = np.nan"
   ]
  },
  {
   "cell_type": "code",
   "execution_count": 11,
   "id": "b6c5cea5",
   "metadata": {},
   "outputs": [],
   "source": [
    "# предобработка df3\n",
    "#преобразуем значения в столбце artists из строк, представляющих списки в строку с разделителем ;, как в df 1\n",
    "#преобразуем строковые представления списков в списки\n",
    "df3['artists'] = df3['artists'].apply(ast.literal_eval)\n",
    "# преобразуем списки в строки с разделителем ;\n",
    "df3['artists'] = df3['artists'].apply(lambda x: ';'.join(x))"
   ]
  },
  {
   "cell_type": "markdown",
   "id": "1e3861e4",
   "metadata": {},
   "source": [
    "4) Перестановка столбцов и их переименовывание.\n",
    "\n",
    "За основу наименований столбцов возьмем df1."
   ]
  },
  {
   "cell_type": "code",
   "execution_count": 12,
   "id": "12296d23",
   "metadata": {},
   "outputs": [],
   "source": [
    "df2 = df2.rename(columns={'name' : 'track_name', 'duration': 'duration_ms', 'genre' : 'track_genre', 'valeance' : 'valence'})\n",
    "df3 = df3.rename(columns={'track_popularity' : 'popularity', 'release_date' : 'release', 'genre_0':'track_genre'})"
   ]
  },
  {
   "cell_type": "code",
   "execution_count": 13,
   "id": "f5d92254",
   "metadata": {},
   "outputs": [],
   "source": [
    "#зададим напрямую нужный порядок столбцов\n",
    "df_col_list = df1.columns.tolist()\n",
    "df2 = df2[df_col_list]\n",
    "df3 = df3[df_col_list]"
   ]
  },
  {
   "cell_type": "markdown",
   "id": "52cc864f",
   "metadata": {},
   "source": [
    "5) Также проверим, какие пересечения есть в наборах данных по track_id"
   ]
  },
  {
   "cell_type": "code",
   "execution_count": 14,
   "id": "2cb80304",
   "metadata": {},
   "outputs": [
    {
     "name": "stdout",
     "output_type": "stream",
     "text": [
      "Размер пересечения между df1 и df2: 21020\n",
      "Размер пересечения между df1 и df3: 3123\n",
      "Размер пересечения между df2 и df3: 2917\n"
     ]
    }
   ],
   "source": [
    "df_list =[df1, df2, df3]\n",
    "for i in range(len(df_list)):\n",
    "    for j in range(i + 1, len(df_list)):\n",
    "        intersection_df = pd.merge(df_list[i], df_list[j], on='track_id')\n",
    "        print(f\"Размер пересечения между df{i+1} и df{j+1}: {intersection_df.shape[0]}\")"
   ]
  },
  {
   "cell_type": "markdown",
   "id": "c140c4b7",
   "metadata": {},
   "source": [
    "Т.о. найденные датасеты практически не пересекаются, кроме df1 и df2. Это говорит о том, что возникнут трудности при заполнении пропусков в данных, с другой стороны получим достаточно большой и полный набор объединенных данных."
   ]
  },
  {
   "cell_type": "markdown",
   "id": "72e44e19",
   "metadata": {},
   "source": [
    "6) Объединение предобработанных датафреймов"
   ]
  },
  {
   "cell_type": "code",
   "execution_count": 15,
   "id": "a1c0b425",
   "metadata": {
    "scrolled": false
   },
   "outputs": [],
   "source": [
    "data = pd.concat([df1, df2, df3])"
   ]
  },
  {
   "cell_type": "code",
   "execution_count": 16,
   "id": "2a427f87",
   "metadata": {},
   "outputs": [
    {
     "data": {
      "text/html": [
       "<div>\n",
       "<style scoped>\n",
       "    .dataframe tbody tr th:only-of-type {\n",
       "        vertical-align: middle;\n",
       "    }\n",
       "\n",
       "    .dataframe tbody tr th {\n",
       "        vertical-align: top;\n",
       "    }\n",
       "\n",
       "    .dataframe thead th {\n",
       "        text-align: right;\n",
       "    }\n",
       "</style>\n",
       "<table border=\"1\" class=\"dataframe\">\n",
       "  <thead>\n",
       "    <tr style=\"text-align: right;\">\n",
       "      <th></th>\n",
       "      <th>track_id</th>\n",
       "      <th>artists</th>\n",
       "      <th>track_name</th>\n",
       "      <th>popularity</th>\n",
       "      <th>duration_ms</th>\n",
       "      <th>explicit</th>\n",
       "      <th>danceability</th>\n",
       "      <th>energy</th>\n",
       "      <th>key</th>\n",
       "      <th>loudness</th>\n",
       "      <th>mode</th>\n",
       "      <th>speechiness</th>\n",
       "      <th>acousticness</th>\n",
       "      <th>instrumentalness</th>\n",
       "      <th>liveness</th>\n",
       "      <th>valence</th>\n",
       "      <th>tempo</th>\n",
       "      <th>time_signature</th>\n",
       "      <th>track_genre</th>\n",
       "      <th>release</th>\n",
       "    </tr>\n",
       "  </thead>\n",
       "  <tbody>\n",
       "    <tr>\n",
       "      <th>0</th>\n",
       "      <td>5SuOikwiRyPMVoIQDJUgSV</td>\n",
       "      <td>Gen Hoshino</td>\n",
       "      <td>Comedy</td>\n",
       "      <td>73.0</td>\n",
       "      <td>230666.0</td>\n",
       "      <td>False</td>\n",
       "      <td>0.676</td>\n",
       "      <td>0.4610</td>\n",
       "      <td>1.0</td>\n",
       "      <td>-6.746</td>\n",
       "      <td>0.0</td>\n",
       "      <td>0.1430</td>\n",
       "      <td>0.0322</td>\n",
       "      <td>0.000001</td>\n",
       "      <td>0.3580</td>\n",
       "      <td>0.715</td>\n",
       "      <td>87.917</td>\n",
       "      <td>4.0</td>\n",
       "      <td>acoustic</td>\n",
       "      <td>NaN</td>\n",
       "    </tr>\n",
       "    <tr>\n",
       "      <th>1</th>\n",
       "      <td>4qPNDBW1i3p13qLCt0Ki3A</td>\n",
       "      <td>Ben Woodward</td>\n",
       "      <td>Ghost - Acoustic</td>\n",
       "      <td>55.0</td>\n",
       "      <td>149610.0</td>\n",
       "      <td>False</td>\n",
       "      <td>0.420</td>\n",
       "      <td>0.1660</td>\n",
       "      <td>1.0</td>\n",
       "      <td>-17.235</td>\n",
       "      <td>1.0</td>\n",
       "      <td>0.0763</td>\n",
       "      <td>0.9240</td>\n",
       "      <td>0.000006</td>\n",
       "      <td>0.1010</td>\n",
       "      <td>0.267</td>\n",
       "      <td>77.489</td>\n",
       "      <td>4.0</td>\n",
       "      <td>acoustic</td>\n",
       "      <td>NaN</td>\n",
       "    </tr>\n",
       "    <tr>\n",
       "      <th>2</th>\n",
       "      <td>1iJBSr7s7jYXzM8EGcbK5b</td>\n",
       "      <td>Ingrid Michaelson;ZAYN</td>\n",
       "      <td>To Begin Again</td>\n",
       "      <td>57.0</td>\n",
       "      <td>210826.0</td>\n",
       "      <td>False</td>\n",
       "      <td>0.438</td>\n",
       "      <td>0.3590</td>\n",
       "      <td>0.0</td>\n",
       "      <td>-9.734</td>\n",
       "      <td>1.0</td>\n",
       "      <td>0.0557</td>\n",
       "      <td>0.2100</td>\n",
       "      <td>0.000000</td>\n",
       "      <td>0.1170</td>\n",
       "      <td>0.120</td>\n",
       "      <td>76.332</td>\n",
       "      <td>4.0</td>\n",
       "      <td>acoustic</td>\n",
       "      <td>NaN</td>\n",
       "    </tr>\n",
       "    <tr>\n",
       "      <th>3</th>\n",
       "      <td>6lfxq3CG4xtTiEg7opyCyx</td>\n",
       "      <td>Kina Grannis</td>\n",
       "      <td>Can't Help Falling In Love</td>\n",
       "      <td>71.0</td>\n",
       "      <td>201933.0</td>\n",
       "      <td>False</td>\n",
       "      <td>0.266</td>\n",
       "      <td>0.0596</td>\n",
       "      <td>0.0</td>\n",
       "      <td>-18.515</td>\n",
       "      <td>1.0</td>\n",
       "      <td>0.0363</td>\n",
       "      <td>0.9050</td>\n",
       "      <td>0.000071</td>\n",
       "      <td>0.1320</td>\n",
       "      <td>0.143</td>\n",
       "      <td>181.740</td>\n",
       "      <td>3.0</td>\n",
       "      <td>acoustic</td>\n",
       "      <td>NaN</td>\n",
       "    </tr>\n",
       "    <tr>\n",
       "      <th>4</th>\n",
       "      <td>5vjLSffimiIP26QG5WcN2K</td>\n",
       "      <td>Chord Overstreet</td>\n",
       "      <td>Hold On</td>\n",
       "      <td>82.0</td>\n",
       "      <td>198853.0</td>\n",
       "      <td>False</td>\n",
       "      <td>0.618</td>\n",
       "      <td>0.4430</td>\n",
       "      <td>2.0</td>\n",
       "      <td>-9.681</td>\n",
       "      <td>1.0</td>\n",
       "      <td>0.0526</td>\n",
       "      <td>0.4690</td>\n",
       "      <td>0.000000</td>\n",
       "      <td>0.0829</td>\n",
       "      <td>0.167</td>\n",
       "      <td>119.949</td>\n",
       "      <td>4.0</td>\n",
       "      <td>acoustic</td>\n",
       "      <td>NaN</td>\n",
       "    </tr>\n",
       "  </tbody>\n",
       "</table>\n",
       "</div>"
      ],
      "text/plain": [
       "                 track_id                 artists                  track_name  \\\n",
       "0  5SuOikwiRyPMVoIQDJUgSV             Gen Hoshino                      Comedy   \n",
       "1  4qPNDBW1i3p13qLCt0Ki3A            Ben Woodward            Ghost - Acoustic   \n",
       "2  1iJBSr7s7jYXzM8EGcbK5b  Ingrid Michaelson;ZAYN              To Begin Again   \n",
       "3  6lfxq3CG4xtTiEg7opyCyx            Kina Grannis  Can't Help Falling In Love   \n",
       "4  5vjLSffimiIP26QG5WcN2K        Chord Overstreet                     Hold On   \n",
       "\n",
       "   popularity  duration_ms explicit  danceability  energy  key  loudness  \\\n",
       "0        73.0     230666.0    False         0.676  0.4610  1.0    -6.746   \n",
       "1        55.0     149610.0    False         0.420  0.1660  1.0   -17.235   \n",
       "2        57.0     210826.0    False         0.438  0.3590  0.0    -9.734   \n",
       "3        71.0     201933.0    False         0.266  0.0596  0.0   -18.515   \n",
       "4        82.0     198853.0    False         0.618  0.4430  2.0    -9.681   \n",
       "\n",
       "   mode  speechiness  acousticness  instrumentalness  liveness  valence  \\\n",
       "0   0.0       0.1430        0.0322          0.000001    0.3580    0.715   \n",
       "1   1.0       0.0763        0.9240          0.000006    0.1010    0.267   \n",
       "2   1.0       0.0557        0.2100          0.000000    0.1170    0.120   \n",
       "3   1.0       0.0363        0.9050          0.000071    0.1320    0.143   \n",
       "4   1.0       0.0526        0.4690          0.000000    0.0829    0.167   \n",
       "\n",
       "     tempo  time_signature track_genre release  \n",
       "0   87.917             4.0    acoustic     NaN  \n",
       "1   77.489             4.0    acoustic     NaN  \n",
       "2   76.332             4.0    acoustic     NaN  \n",
       "3  181.740             3.0    acoustic     NaN  \n",
       "4  119.949             4.0    acoustic     NaN  "
      ]
     },
     "metadata": {},
     "output_type": "display_data"
    },
    {
     "name": "stdout",
     "output_type": "stream",
     "text": [
      "========================================\n",
      "<class 'pandas.core.frame.DataFrame'>\n",
      "Int64Index: 1033542 entries, 0 to 375140\n",
      "Data columns (total 20 columns):\n",
      " #   Column            Non-Null Count    Dtype  \n",
      "---  ------            --------------    -----  \n",
      " 0   track_id          1033542 non-null  object \n",
      " 1   artists           1033541 non-null  object \n",
      " 2   track_name        1033525 non-null  object \n",
      " 3   popularity        489131 non-null   float64\n",
      " 4   duration_ms       1032765 non-null  float64\n",
      " 5   explicit          489131 non-null   object \n",
      " 6   danceability      1032765 non-null  float64\n",
      " 7   energy            1032765 non-null  float64\n",
      " 8   key               1032765 non-null  float64\n",
      " 9   loudness          1032765 non-null  float64\n",
      " 10  mode              488364 non-null   float64\n",
      " 11  speechiness       1032765 non-null  float64\n",
      " 12  acousticness      1032765 non-null  float64\n",
      " 13  instrumentalness  1032765 non-null  float64\n",
      " 14  liveness          1032765 non-null  float64\n",
      " 15  valence           1032765 non-null  float64\n",
      " 16  tempo             1032765 non-null  float64\n",
      " 17  time_signature    488364 non-null   float64\n",
      " 18  track_genre       868264 non-null   object \n",
      " 19  release           919497 non-null   object \n",
      "dtypes: float64(14), object(6)\n",
      "memory usage: 165.6+ MB\n"
     ]
    },
    {
     "data": {
      "text/plain": [
       "None"
      ]
     },
     "metadata": {},
     "output_type": "display_data"
    },
    {
     "name": "stdout",
     "output_type": "stream",
     "text": [
      "========================================\n",
      "Количество пропусков: track_id                 0\n",
      "artists                  1\n",
      "track_name              17\n",
      "popularity          544411\n",
      "duration_ms            777\n",
      "explicit            544411\n",
      "danceability           777\n",
      "energy                 777\n",
      "key                    777\n",
      "loudness               777\n",
      "mode                545178\n",
      "speechiness            777\n",
      "acousticness           777\n",
      "instrumentalness       777\n",
      "liveness               777\n",
      "valence                777\n",
      "tempo                  777\n",
      "time_signature      545178\n",
      "track_genre         165278\n",
      "release             114045\n",
      "dtype: int64\n",
      "========================================\n",
      "Количество полных дубликатов : 450\n",
      "========================================\n"
     ]
    }
   ],
   "source": [
    "#основная информация\n",
    "display(data.head())\n",
    "print('=' * 40)\n",
    "display(data.info())\n",
    "print('=' * 40)\n",
    "print('Количество пропусков:', data.isnull().sum())\n",
    "print('=' * 40)\n",
    "print('Количество полных дубликатов :',data.duplicated().sum())\n",
    "print('=' * 40)"
   ]
  },
  {
   "cell_type": "code",
   "execution_count": null,
   "id": "016690fc",
   "metadata": {},
   "outputs": [],
   "source": []
  },
  {
   "cell_type": "code",
   "execution_count": 17,
   "id": "fc630231",
   "metadata": {},
   "outputs": [
    {
     "data": {
      "text/html": [
       "<div>\n",
       "<style scoped>\n",
       "    .dataframe tbody tr th:only-of-type {\n",
       "        vertical-align: middle;\n",
       "    }\n",
       "\n",
       "    .dataframe tbody tr th {\n",
       "        vertical-align: top;\n",
       "    }\n",
       "\n",
       "    .dataframe thead th {\n",
       "        text-align: right;\n",
       "    }\n",
       "</style>\n",
       "<table border=\"1\" class=\"dataframe\">\n",
       "  <thead>\n",
       "    <tr style=\"text-align: right;\">\n",
       "      <th></th>\n",
       "      <th>count</th>\n",
       "      <th>mean</th>\n",
       "      <th>std</th>\n",
       "      <th>min</th>\n",
       "      <th>25%</th>\n",
       "      <th>50%</th>\n",
       "      <th>75%</th>\n",
       "      <th>max</th>\n",
       "    </tr>\n",
       "  </thead>\n",
       "  <tbody>\n",
       "    <tr>\n",
       "      <th>popularity</th>\n",
       "      <td>489131.0</td>\n",
       "      <td>15.625699</td>\n",
       "      <td>19.941654</td>\n",
       "      <td>0.0</td>\n",
       "      <td>0.0000</td>\n",
       "      <td>5.000000</td>\n",
       "      <td>27.000</td>\n",
       "      <td>100.000</td>\n",
       "    </tr>\n",
       "    <tr>\n",
       "      <th>duration_ms</th>\n",
       "      <td>1032765.0</td>\n",
       "      <td>238574.561356</td>\n",
       "      <td>123806.397274</td>\n",
       "      <td>0.0</td>\n",
       "      <td>177035.0000</td>\n",
       "      <td>218280.000000</td>\n",
       "      <td>272575.000</td>\n",
       "      <td>5828731.000</td>\n",
       "    </tr>\n",
       "    <tr>\n",
       "      <th>danceability</th>\n",
       "      <td>1032765.0</td>\n",
       "      <td>0.554021</td>\n",
       "      <td>0.190264</td>\n",
       "      <td>0.0</td>\n",
       "      <td>0.4270</td>\n",
       "      <td>0.572000</td>\n",
       "      <td>0.699</td>\n",
       "      <td>0.999</td>\n",
       "    </tr>\n",
       "    <tr>\n",
       "      <th>energy</th>\n",
       "      <td>1032765.0</td>\n",
       "      <td>0.583233</td>\n",
       "      <td>0.268411</td>\n",
       "      <td>0.0</td>\n",
       "      <td>0.3880</td>\n",
       "      <td>0.613000</td>\n",
       "      <td>0.809</td>\n",
       "      <td>1.000</td>\n",
       "    </tr>\n",
       "    <tr>\n",
       "      <th>key</th>\n",
       "      <td>1032765.0</td>\n",
       "      <td>5.271209</td>\n",
       "      <td>3.560383</td>\n",
       "      <td>0.0</td>\n",
       "      <td>2.0000</td>\n",
       "      <td>5.000000</td>\n",
       "      <td>8.000</td>\n",
       "      <td>11.000</td>\n",
       "    </tr>\n",
       "    <tr>\n",
       "      <th>loudness</th>\n",
       "      <td>1032765.0</td>\n",
       "      <td>-9.955706</td>\n",
       "      <td>6.011136</td>\n",
       "      <td>-60.0</td>\n",
       "      <td>-12.2170</td>\n",
       "      <td>-8.367000</td>\n",
       "      <td>-5.903</td>\n",
       "      <td>5.968</td>\n",
       "    </tr>\n",
       "    <tr>\n",
       "      <th>mode</th>\n",
       "      <td>488364.0</td>\n",
       "      <td>0.637881</td>\n",
       "      <td>0.480614</td>\n",
       "      <td>0.0</td>\n",
       "      <td>0.0000</td>\n",
       "      <td>1.000000</td>\n",
       "      <td>1.000</td>\n",
       "      <td>1.000</td>\n",
       "    </tr>\n",
       "    <tr>\n",
       "      <th>speechiness</th>\n",
       "      <td>1032765.0</td>\n",
       "      <td>0.097690</td>\n",
       "      <td>0.129986</td>\n",
       "      <td>0.0</td>\n",
       "      <td>0.0364</td>\n",
       "      <td>0.049800</td>\n",
       "      <td>0.094</td>\n",
       "      <td>0.970</td>\n",
       "    </tr>\n",
       "    <tr>\n",
       "      <th>acousticness</th>\n",
       "      <td>1032765.0</td>\n",
       "      <td>0.356075</td>\n",
       "      <td>0.355446</td>\n",
       "      <td>0.0</td>\n",
       "      <td>0.0207</td>\n",
       "      <td>0.218000</td>\n",
       "      <td>0.692</td>\n",
       "      <td>0.996</td>\n",
       "    </tr>\n",
       "    <tr>\n",
       "      <th>instrumentalness</th>\n",
       "      <td>1032765.0</td>\n",
       "      <td>0.240348</td>\n",
       "      <td>0.363744</td>\n",
       "      <td>0.0</td>\n",
       "      <td>0.0000</td>\n",
       "      <td>0.000694</td>\n",
       "      <td>0.566</td>\n",
       "      <td>1.000</td>\n",
       "    </tr>\n",
       "    <tr>\n",
       "      <th>liveness</th>\n",
       "      <td>1032765.0</td>\n",
       "      <td>0.195754</td>\n",
       "      <td>0.167770</td>\n",
       "      <td>0.0</td>\n",
       "      <td>0.0965</td>\n",
       "      <td>0.125000</td>\n",
       "      <td>0.245</td>\n",
       "      <td>1.000</td>\n",
       "    </tr>\n",
       "    <tr>\n",
       "      <th>valence</th>\n",
       "      <td>1032765.0</td>\n",
       "      <td>0.465450</td>\n",
       "      <td>0.269439</td>\n",
       "      <td>0.0</td>\n",
       "      <td>0.2380</td>\n",
       "      <td>0.453000</td>\n",
       "      <td>0.683</td>\n",
       "      <td>1.000</td>\n",
       "    </tr>\n",
       "    <tr>\n",
       "      <th>tempo</th>\n",
       "      <td>1032765.0</td>\n",
       "      <td>120.455340</td>\n",
       "      <td>30.044933</td>\n",
       "      <td>0.0</td>\n",
       "      <td>97.0210</td>\n",
       "      <td>120.009000</td>\n",
       "      <td>139.899</td>\n",
       "      <td>249.428</td>\n",
       "    </tr>\n",
       "    <tr>\n",
       "      <th>time_signature</th>\n",
       "      <td>488364.0</td>\n",
       "      <td>3.881126</td>\n",
       "      <td>0.501676</td>\n",
       "      <td>0.0</td>\n",
       "      <td>4.0000</td>\n",
       "      <td>4.000000</td>\n",
       "      <td>4.000</td>\n",
       "      <td>5.000</td>\n",
       "    </tr>\n",
       "  </tbody>\n",
       "</table>\n",
       "</div>"
      ],
      "text/plain": [
       "                      count           mean            std   min          25%  \\\n",
       "popularity         489131.0      15.625699      19.941654   0.0       0.0000   \n",
       "duration_ms       1032765.0  238574.561356  123806.397274   0.0  177035.0000   \n",
       "danceability      1032765.0       0.554021       0.190264   0.0       0.4270   \n",
       "energy            1032765.0       0.583233       0.268411   0.0       0.3880   \n",
       "key               1032765.0       5.271209       3.560383   0.0       2.0000   \n",
       "loudness          1032765.0      -9.955706       6.011136 -60.0     -12.2170   \n",
       "mode               488364.0       0.637881       0.480614   0.0       0.0000   \n",
       "speechiness       1032765.0       0.097690       0.129986   0.0       0.0364   \n",
       "acousticness      1032765.0       0.356075       0.355446   0.0       0.0207   \n",
       "instrumentalness  1032765.0       0.240348       0.363744   0.0       0.0000   \n",
       "liveness          1032765.0       0.195754       0.167770   0.0       0.0965   \n",
       "valence           1032765.0       0.465450       0.269439   0.0       0.2380   \n",
       "tempo             1032765.0     120.455340      30.044933   0.0      97.0210   \n",
       "time_signature     488364.0       3.881126       0.501676   0.0       4.0000   \n",
       "\n",
       "                            50%         75%          max  \n",
       "popularity             5.000000      27.000      100.000  \n",
       "duration_ms       218280.000000  272575.000  5828731.000  \n",
       "danceability           0.572000       0.699        0.999  \n",
       "energy                 0.613000       0.809        1.000  \n",
       "key                    5.000000       8.000       11.000  \n",
       "loudness              -8.367000      -5.903        5.968  \n",
       "mode                   1.000000       1.000        1.000  \n",
       "speechiness            0.049800       0.094        0.970  \n",
       "acousticness           0.218000       0.692        0.996  \n",
       "instrumentalness       0.000694       0.566        1.000  \n",
       "liveness               0.125000       0.245        1.000  \n",
       "valence                0.453000       0.683        1.000  \n",
       "tempo                120.009000     139.899      249.428  \n",
       "time_signature         4.000000       4.000        5.000  "
      ]
     },
     "execution_count": 17,
     "metadata": {},
     "output_type": "execute_result"
    }
   ],
   "source": [
    "data.describe().T"
   ]
  },
  {
   "cell_type": "code",
   "execution_count": 18,
   "id": "5fc46ec5",
   "metadata": {},
   "outputs": [
    {
     "data": {
      "text/plain": [
       "6015"
      ]
     },
     "execution_count": 18,
     "metadata": {},
     "output_type": "execute_result"
    }
   ],
   "source": [
    "data['track_genre'].nunique()"
   ]
  },
  {
   "cell_type": "code",
   "execution_count": 19,
   "id": "efea4991",
   "metadata": {},
   "outputs": [
    {
     "name": "stdout",
     "output_type": "stream",
     "text": [
      "<class 'pandas.core.frame.DataFrame'>\n",
      "Int64Index: 1033542 entries, 0 to 375140\n",
      "Data columns (total 20 columns):\n",
      " #   Column            Non-Null Count    Dtype  \n",
      "---  ------            --------------    -----  \n",
      " 0   track_id          1033542 non-null  object \n",
      " 1   artists           1033541 non-null  object \n",
      " 2   track_name        1033525 non-null  object \n",
      " 3   popularity        489131 non-null   float64\n",
      " 4   duration_ms       1032765 non-null  float64\n",
      " 5   explicit          489131 non-null   object \n",
      " 6   danceability      1032765 non-null  float64\n",
      " 7   energy            1032765 non-null  float64\n",
      " 8   key               1032765 non-null  float64\n",
      " 9   loudness          1032765 non-null  float64\n",
      " 10  mode              488364 non-null   float64\n",
      " 11  speechiness       1032765 non-null  float64\n",
      " 12  acousticness      1032765 non-null  float64\n",
      " 13  instrumentalness  1032765 non-null  float64\n",
      " 14  liveness          1032765 non-null  float64\n",
      " 15  valence           1032765 non-null  float64\n",
      " 16  tempo             1032765 non-null  float64\n",
      " 17  time_signature    488364 non-null   float64\n",
      " 18  track_genre       868264 non-null   object \n",
      " 19  release           919497 non-null   object \n",
      "dtypes: float64(14), object(6)\n",
      "memory usage: 165.6+ MB\n"
     ]
    }
   ],
   "source": [
    "data.info()"
   ]
  },
  {
   "cell_type": "markdown",
   "id": "5afe135e",
   "metadata": {},
   "source": [
    "Новые датасеты"
   ]
  },
  {
   "cell_type": "code",
   "execution_count": 20,
   "id": "8107edba",
   "metadata": {},
   "outputs": [],
   "source": [
    "df4 = pd.read_csv('C:/Users/Asus/Яндекс_практикум/kaggle spotify/spotify/databases/1m_songs.csv')"
   ]
  },
  {
   "cell_type": "code",
   "execution_count": 21,
   "id": "4935f397",
   "metadata": {},
   "outputs": [],
   "source": [
    "df5 = pd.read_csv('C:/Users/Asus/Яндекс_практикум/kaggle spotify/spotify/databases/1_2m_songs.csv')"
   ]
  },
  {
   "cell_type": "code",
   "execution_count": 22,
   "id": "e45a7404",
   "metadata": {},
   "outputs": [],
   "source": [
    "df5 = df5.rename(columns={'id' : 'track_id'})"
   ]
  },
  {
   "cell_type": "code",
   "execution_count": 24,
   "id": "fef504c8",
   "metadata": {},
   "outputs": [
    {
     "name": "stdout",
     "output_type": "stream",
     "text": [
      "Размер пересечения между df1 и df2: 21020\n",
      "Размер пересечения между df1 и df3: 3123\n",
      "Размер пересечения между df1 и df4: 44628\n",
      "Размер пересечения между df1 и df5: 6041\n",
      "Размер пересечения между df2 и df3: 2917\n",
      "Размер пересечения между df2 и df4: 65539\n",
      "Размер пересечения между df2 и df5: 19198\n",
      "Размер пересечения между df3 и df4: 21924\n",
      "Размер пересечения между df3 и df5: 13798\n",
      "Размер пересечения между df4 и df5: 79909\n"
     ]
    }
   ],
   "source": [
    "df_list =[df1, df2, df3, df4, df5]\n",
    "for i in range(len(df_list)):\n",
    "    for j in range(i + 1, len(df_list)):\n",
    "        intersection_df = pd.merge(df_list[i], df_list[j], on='track_id')\n",
    "        print(f\"Размер пересечения между df{i+1} и df{j+1}: {intersection_df.shape[0]}\")"
   ]
  },
  {
   "cell_type": "code",
   "execution_count": null,
   "id": "50dc255a",
   "metadata": {},
   "outputs": [],
   "source": []
  },
  {
   "cell_type": "code",
   "execution_count": null,
   "id": "cf7a2b98",
   "metadata": {},
   "outputs": [],
   "source": []
  },
  {
   "cell_type": "code",
   "execution_count": null,
   "id": "df3c0796",
   "metadata": {},
   "outputs": [],
   "source": []
  },
  {
   "cell_type": "markdown",
   "id": "47cc57c6",
   "metadata": {},
   "source": [
    "## 1.3 Предобработка\n",
    "\n",
    "На стадии предобработки необходимо:\n",
    "1) удалить лишний столбец, а также дубликаты и пропуски\n",
    "2) дополнительно проверить столбец 'artists'"
   ]
  },
  {
   "cell_type": "markdown",
   "id": "14cffb9a",
   "metadata": {},
   "source": [
    "### 1.2.1 Удаление дубликатов и пропусков"
   ]
  },
  {
   "cell_type": "code",
   "execution_count": 25,
   "id": "634bef21",
   "metadata": {},
   "outputs": [],
   "source": [
    "#убедимся, что действительно есть полные дубликаты\n",
    "#display(df.sort_values(by='popularity', ascending=False).head(3))\n",
    "#display(df.query('track_id == \"2zg3iJW4fK7KZgHOvJU67z\"'))"
   ]
  },
  {
   "cell_type": "code",
   "execution_count": 26,
   "id": "95417581",
   "metadata": {},
   "outputs": [],
   "source": [
    "#рассмотрим пропуск отдельно\n",
    "#df.query('artists.isna()')"
   ]
  },
  {
   "cell_type": "markdown",
   "id": "6a8f404a",
   "metadata": {},
   "source": [
    "Действительно, в наборе данных есть дубликаты, которые необходимо удалить.\n",
    "\n",
    "В датасете есть один трек, для которого отсутсвуют атрибуты наименований - артист, песня, альбом. Жанр данной композиции - k-pop. Скорее всего при формировании датасета данные наименования не распознались из-за того, что были записаны корейскими иероглифами. С другой стороны в датасете есть наименования записанные иероглифами, и это не признак жанра.\n",
    "\n",
    "Рассмотрим пару примеров, из которых можно заключить, что отсутсвие наименования скорее всего исключение из практики. Заменять значения не имеет смысла, поэтому удалим данную строку."
   ]
  },
  {
   "cell_type": "code",
   "execution_count": 27,
   "id": "041fd403",
   "metadata": {},
   "outputs": [],
   "source": [
    "# примеры треков в стиле k-pop\n",
    "#df.query('track_genre == \"k-pop\"')[['artists', 'track_name', 'album_name']]"
   ]
  },
  {
   "cell_type": "code",
   "execution_count": 28,
   "id": "bdd7f2b0",
   "metadata": {},
   "outputs": [],
   "source": [
    "#пример трека с наименованиями в виде иероглифов\n",
    "#df.query('track_id == \"481beimUiUnMUzSbOAFcUT\"')"
   ]
  },
  {
   "cell_type": "code",
   "execution_count": 29,
   "id": "26cbbec4",
   "metadata": {},
   "outputs": [],
   "source": [
    "# сохраним в переменную количество строк до удаления\n",
    "#a = df.shape[0]"
   ]
  },
  {
   "cell_type": "code",
   "execution_count": 30,
   "id": "f8fd2e85",
   "metadata": {},
   "outputs": [],
   "source": [
    "# удалим дубликаты\n",
    "#df = df.drop_duplicates()"
   ]
  },
  {
   "cell_type": "code",
   "execution_count": 31,
   "id": "999e0965",
   "metadata": {},
   "outputs": [],
   "source": [
    "# удалим пропуски\n",
    "#df = df.dropna()"
   ]
  },
  {
   "cell_type": "code",
   "execution_count": 32,
   "id": "42bf05e9",
   "metadata": {},
   "outputs": [],
   "source": [
    "#df.info()"
   ]
  },
  {
   "cell_type": "code",
   "execution_count": 33,
   "id": "125fafe4",
   "metadata": {},
   "outputs": [],
   "source": [
    "# сохраним в переменную кол-во строк после удаления\n",
    "#b = df.shape[0]"
   ]
  },
  {
   "cell_type": "code",
   "execution_count": 34,
   "id": "29ceab33",
   "metadata": {},
   "outputs": [],
   "source": [
    "#print('Удалено {:.4%} данных из датасета'.format(1 - b/a))"
   ]
  },
  {
   "cell_type": "markdown",
   "id": "4488064b",
   "metadata": {},
   "source": [
    "### 1.2.2 Столбец 'artists'"
   ]
  },
  {
   "cell_type": "markdown",
   "id": "ebc1d4d1",
   "metadata": {},
   "source": [
    "Из примеров выше видно, что ряд наименований авторов песен 'artists' иногда содержит 2 и более имени/псевдонима, которые разделены разделителем \";\". Выделим уникальные наименования исполнителей для каждой песни\n",
    "При этом достоверно не известно, по каким правилам назначается порядок следования имен в списке перечисленных исполнителей. Для дальнейшего анализа нам будет важно это понимать.\n",
    "По информации в открытых источниках порядок может быть:\n",
    "- алфавитный\n",
    "- по степени авторства/со-авторства\n",
    "- по степени участия\n",
    "- по уровеню вовлеченности в создание\n",
    "- в зависимости от регалий\n",
    "- от договоренностей\n",
    "- случайность\n",
    "\n",
    "На данном этапе предположим, что порядок зависит от степени авторства и вклада в создание музыкальной композиции.\n",
    "\n",
    "Стоит учесть, что отстутсвует информация о количестве разделителей в наименовании исполнителя, поэтому выполним процедуру разделения отдельно."
   ]
  },
  {
   "cell_type": "code",
   "execution_count": null,
   "id": "08f2e327",
   "metadata": {},
   "outputs": [],
   "source": []
  },
  {
   "cell_type": "code",
   "execution_count": 35,
   "id": "5726c5df",
   "metadata": {},
   "outputs": [],
   "source": [
    "#разделение по разделителю на неизвестное число столбцов\n",
    "#split_artists = df['artists'].str.split(';', expand = True)"
   ]
  },
  {
   "cell_type": "code",
   "execution_count": 36,
   "id": "e45b215a",
   "metadata": {},
   "outputs": [],
   "source": [
    "#подсчет исполнителей на 1 песню\n",
    "#split_artists['artists_counter'] = split_artists.count(axis=1)"
   ]
  },
  {
   "cell_type": "code",
   "execution_count": 37,
   "id": "6aa0a047",
   "metadata": {},
   "outputs": [],
   "source": [
    "#объединение с track_id\n",
    "#split_artists = pd.concat([df['track_id'], split_artists], axis=1)"
   ]
  },
  {
   "cell_type": "code",
   "execution_count": 38,
   "id": "3d07a44a",
   "metadata": {},
   "outputs": [],
   "source": [
    "#split_artists.sort_values(by='artists_counter', ascending=False).head(10)"
   ]
  },
  {
   "cell_type": "markdown",
   "id": "a9dd4960",
   "metadata": {},
   "source": [
    "Т.о. в наборе существует 5 песен, количество исполнителей в которых более 30, и некоторе количество песен, где исполнителей больше 2-3. Как видно из таблицы выше наименования исполнителей расположены не в алфавитном порядке. Поэтому остановимся на предположении, что в перечне исполнителей 1-м стоит основной исполнитель (возможно, он же и автор).\n",
    "\n",
    "20 и более участников - это скорее всего совместные записи популярных песен. Так и есть композиция с 38-участниками - кавер на песню 1970 года Мигеля Риоса «Himno a la Alegría»"
   ]
  },
  {
   "cell_type": "code",
   "execution_count": 39,
   "id": "086ebdc7",
   "metadata": {},
   "outputs": [],
   "source": [
    "#df.query('track_id == \"7F5rc8a0xD6DCloB2kROq9\"')[['artists', 'track_name']]"
   ]
  },
  {
   "cell_type": "markdown",
   "id": "a8eafd11",
   "metadata": {},
   "source": [
    "По гистограмме ниже видно, что в целом для большинства песен характерно не более 4-х исполнителей."
   ]
  },
  {
   "cell_type": "code",
   "execution_count": 40,
   "id": "0f9acf45",
   "metadata": {},
   "outputs": [],
   "source": [
    "#plt.figure(figsize=(10,5))\n",
    "\n",
    "#ax1 = plt.subplot(1, 2, 1)\n",
    "#split_artists['artists_counter'].hist(bins=38)\n",
    "#plt.xlabel('Кол-во исполнителей в песне')\n",
    "#plt.ylabel('Кол-во композиций')\n",
    "\n",
    "#ax1 = plt.subplot(1, 2, 2)\n",
    "#split_artists['artists_counter'].hist(bins=38)\n",
    "#plt.xlabel('Кол-во исполнителей в песне')\n",
    "#plt.ylim(0,10000)\n",
    "#plt.xlim(0,10)\n",
    "#plt.show()"
   ]
  },
  {
   "cell_type": "code",
   "execution_count": 41,
   "id": "5cde0bd0",
   "metadata": {},
   "outputs": [
    {
     "ename": "NameError",
     "evalue": "name 'split_artists' is not defined",
     "output_type": "error",
     "traceback": [
      "\u001b[1;31m---------------------------------------------------------------------------\u001b[0m",
      "\u001b[1;31mNameError\u001b[0m                                 Traceback (most recent call last)",
      "\u001b[1;32m~\\AppData\\Local\\Temp\\ipykernel_3004\\3534430677.py\u001b[0m in \u001b[0;36m<module>\u001b[1;34m\u001b[0m\n\u001b[1;32m----> 1\u001b[1;33m \u001b[0msplit_artists\u001b[0m\u001b[1;33m.\u001b[0m\u001b[0mgroupby\u001b[0m\u001b[1;33m(\u001b[0m\u001b[1;34m'artists_counter'\u001b[0m\u001b[1;33m)\u001b[0m\u001b[1;33m[\u001b[0m\u001b[1;34m'track_id'\u001b[0m\u001b[1;33m]\u001b[0m\u001b[1;33m.\u001b[0m\u001b[0mcount\u001b[0m\u001b[1;33m(\u001b[0m\u001b[1;33m)\u001b[0m\u001b[1;33m.\u001b[0m\u001b[0mreset_index\u001b[0m\u001b[1;33m(\u001b[0m\u001b[1;33m)\u001b[0m\u001b[1;33m.\u001b[0m\u001b[0mhead\u001b[0m\u001b[1;33m(\u001b[0m\u001b[1;36m6\u001b[0m\u001b[1;33m)\u001b[0m\u001b[1;33m\u001b[0m\u001b[1;33m\u001b[0m\u001b[0m\n\u001b[0m",
      "\u001b[1;31mNameError\u001b[0m: name 'split_artists' is not defined"
     ]
    }
   ],
   "source": [
    "#split_artists.groupby('artists_counter')['track_id'].count().reset_index().head(6)"
   ]
  },
  {
   "cell_type": "markdown",
   "id": "ee5d60f2",
   "metadata": {},
   "source": [
    "С другой стороны, максимум 2 исполнителя примерно в более чем 92% песен. Поэтому добавим в наш начальный датасет дополнительные столбцы с первыми 3-мя исполнителями "
   ]
  },
  {
   "cell_type": "code",
   "execution_count": null,
   "id": "281b6239",
   "metadata": {},
   "outputs": [],
   "source": []
  },
  {
   "cell_type": "code",
   "execution_count": null,
   "id": "7922f5b4",
   "metadata": {},
   "outputs": [],
   "source": [
    "#df1 = df.copy(deep=True)"
   ]
  },
  {
   "cell_type": "code",
   "execution_count": null,
   "id": "04a14003",
   "metadata": {},
   "outputs": [],
   "source": [
    "#df1[['artist_1', 'artist_2', 'artist_3']] = df1['artists'].str.split(';', 2 , expand= True )"
   ]
  },
  {
   "cell_type": "code",
   "execution_count": null,
   "id": "2aa5bc06",
   "metadata": {},
   "outputs": [],
   "source": [
    "#df1.groupby('artist_1')['track_id'].count().reset_index().sort_values(by='track_id', ascending=False)"
   ]
  },
  {
   "cell_type": "code",
   "execution_count": null,
   "id": "b84cd326",
   "metadata": {},
   "outputs": [],
   "source": []
  },
  {
   "cell_type": "code",
   "execution_count": null,
   "id": "7b4c3d20",
   "metadata": {},
   "outputs": [],
   "source": [
    "#df.pivot_table(index='track_genre', values=['danceability', 'energy', 'explicit'], aggfunc = {'mean'})"
   ]
  },
  {
   "cell_type": "code",
   "execution_count": null,
   "id": "22ff3842",
   "metadata": {},
   "outputs": [],
   "source": [
    "#sns.scatterplot(data=df.query('(track_genre == \"edm\") or (track_genre == \"electro\") '), x='energy', y='danceability', hue = 'track_genre')"
   ]
  },
  {
   "cell_type": "code",
   "execution_count": null,
   "id": "18898ef1",
   "metadata": {},
   "outputs": [],
   "source": [
    "#df.groupby('track_genre')['explicit'].mean().reset_index().sort_values(by='explicit', ascending=False).head(20)"
   ]
  },
  {
   "cell_type": "markdown",
   "id": "01c94d13",
   "metadata": {},
   "source": [
    "# 2 EDA"
   ]
  },
  {
   "cell_type": "markdown",
   "id": "5367a607",
   "metadata": {},
   "source": []
  },
  {
   "cell_type": "code",
   "execution_count": null,
   "id": "18907737",
   "metadata": {},
   "outputs": [],
   "source": []
  },
  {
   "cell_type": "code",
   "execution_count": null,
   "id": "431e55e8",
   "metadata": {},
   "outputs": [],
   "source": [
    "#df.describe().T"
   ]
  },
  {
   "cell_type": "code",
   "execution_count": null,
   "id": "927ab0b8",
   "metadata": {},
   "outputs": [],
   "source": [
    "#heatm = data.drop(['track_id', 'artists', 'track_name', 'track_genre'], axis=1)"
   ]
  },
  {
   "cell_type": "code",
   "execution_count": null,
   "id": "9164003e",
   "metadata": {},
   "outputs": [],
   "source": [
    "#heatm.corr().style.background_gradient(cmap='Reds', axis=0)"
   ]
  },
  {
   "cell_type": "code",
   "execution_count": null,
   "id": "41517eef",
   "metadata": {},
   "outputs": [],
   "source": [
    "#plt.figure(figsize=(10,6))\n",
    "#sns.heatmap(heatm.corr())\n",
    "#plt.show()"
   ]
  },
  {
   "cell_type": "code",
   "execution_count": null,
   "id": "319c2eab",
   "metadata": {},
   "outputs": [],
   "source": [
    "#heatm.hist(bins=100, figsize=(20,20))\n",
    "#plt.show()"
   ]
  },
  {
   "cell_type": "code",
   "execution_count": null,
   "id": "5cfead0c",
   "metadata": {},
   "outputs": [],
   "source": []
  },
  {
   "cell_type": "code",
   "execution_count": null,
   "id": "3778ff74",
   "metadata": {},
   "outputs": [],
   "source": []
  },
  {
   "cell_type": "code",
   "execution_count": null,
   "id": "9f5d13ca",
   "metadata": {},
   "outputs": [],
   "source": [
    "#df['track_genre'].unique()"
   ]
  },
  {
   "cell_type": "code",
   "execution_count": null,
   "id": "b6c2d856",
   "metadata": {},
   "outputs": [],
   "source": []
  },
  {
   "cell_type": "code",
   "execution_count": null,
   "id": "54dde4f4",
   "metadata": {},
   "outputs": [],
   "source": [
    "#allsongs = pd.read_csv('C:/Users/Asus/Яндекс_практикум/kaggle spotify/spotify/databases/544k_songs.csv')"
   ]
  },
  {
   "cell_type": "code",
   "execution_count": null,
   "id": "f7120e85",
   "metadata": {},
   "outputs": [],
   "source": [
    "#allsongs.query('Genre == \"pop\"')"
   ]
  },
  {
   "cell_type": "code",
   "execution_count": null,
   "id": "6f5d1246",
   "metadata": {},
   "outputs": [],
   "source": [
    "#allsongs.groupby('Genre')['Id'].count().reset_index().sort_values(by='Id', ascending=False)3"
   ]
  },
  {
   "cell_type": "code",
   "execution_count": null,
   "id": "e154d1e3",
   "metadata": {},
   "outputs": [],
   "source": [
    "#df.groupby('track_genre')['track_id'].count().reset_index().sort_values(by='track_id', ascending=False)"
   ]
  },
  {
   "cell_type": "code",
   "execution_count": null,
   "id": "be145fa9",
   "metadata": {},
   "outputs": [],
   "source": []
  },
  {
   "cell_type": "code",
   "execution_count": null,
   "id": "7c75774d",
   "metadata": {},
   "outputs": [],
   "source": []
  },
  {
   "cell_type": "code",
   "execution_count": null,
   "id": "0484bd44",
   "metadata": {},
   "outputs": [],
   "source": []
  },
  {
   "cell_type": "markdown",
   "id": "97a602f5",
   "metadata": {},
   "source": [
    "The columns include: \n",
    "\n",
    "- artists (the name of the artist or artists who performed the track), \n",
    "- album_name (the title of the album to which the track belongs), \n",
    "- track_name (the specific name of each track), \n",
    "- popularity (a numerical score indicating the popularity of a song on Spotify ranging from 0 to 100), \n",
    "- duration_ms (the duration of each track measured in milliseconds), \n",
    "- explicit (a boolean value denoting whether a song contains explicit content or not)\n",
    "- danceability: Danceability measures how suitable a track is for dancing, ranging from 0 to 1. Tracks with high danceability scores are more energetic and rhythmic, making them ideal for dancing.\n",
    "- energy:Energy represents intensity and activity within a song on a scale from 0 to 1. Tracks with high energy tend to be more fast-paced and intense.\n",
    "- oudness: Loudness indicates how loud or quiet an entire song is in decibels (dB). Positive values represent louder songs while negative values suggest quieter ones.\n",
    "- key: Key refers to different musical keys assigned integers ranging from 0-11,with each number representing a different key. Knowing the key can provide insights into the mood and tone of a song.\n",
    "- valence: Valence measures the musical positiveness conveyed by a track, ranging from 0 to 1. High valence values indicate more positive or happy tracks, while lower values suggest more negative or sad ones.\n",
    "- tempo: Tempo is the speed or pace of a song in beats per minute (BPM). It gives an idea about how fast or slow a track is."
   ]
  }
 ],
 "metadata": {
  "kernelspec": {
   "display_name": "Python 3 (ipykernel)",
   "language": "python",
   "name": "python3"
  },
  "language_info": {
   "codemirror_mode": {
    "name": "ipython",
    "version": 3
   },
   "file_extension": ".py",
   "mimetype": "text/x-python",
   "name": "python",
   "nbconvert_exporter": "python",
   "pygments_lexer": "ipython3",
   "version": "3.8.16"
  }
 },
 "nbformat": 4,
 "nbformat_minor": 5
}
